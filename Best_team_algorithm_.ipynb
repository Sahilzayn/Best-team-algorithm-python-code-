{
  "nbformat": 4,
  "nbformat_minor": 0,
  "metadata": {
    "colab": {
      "provenance": [],
      "authorship_tag": "ABX9TyOSvoONbFp9XUKXkC31Kme+",
      "include_colab_link": true
    },
    "kernelspec": {
      "name": "python3",
      "display_name": "Python 3"
    },
    "language_info": {
      "name": "python"
    }
  },
  "cells": [
    {
      "cell_type": "markdown",
      "metadata": {
        "id": "view-in-github",
        "colab_type": "text"
      },
      "source": [
        "<a href=\"https://colab.research.google.com/github/Sahilzayn/Best-team-algorithm-python-code-/blob/main/Best_team_algorithm_.ipynb\" target=\"_parent\"><img src=\"https://colab.research.google.com/assets/colab-badge.svg\" alt=\"Open In Colab\"/></a>"
      ]
    },
    {
      "cell_type": "markdown",
      "source": [
        "# **Design an algorithm to select the best team for the Champions League Final: Man City vs. Inter Milan on June 10th. Consider player performance, team strategies, and past records.**"
      ],
      "metadata": {
        "id": "Y9JWc3Q7bcBK"
      }
    },
    {
      "cell_type": "code",
      "execution_count": null,
      "metadata": {
        "id": "hcmPY4E-Yy60"
      },
      "outputs": [],
      "source": [
        "# Define player performance data (dummy data)\n",
        "player_stats = {\n",
        "    'Man City': {\n",
        "        'Player1': {'goals': 10, 'assists': 5, 'pass_completion': 85, 'defensive_contributions': 20},\n",
        "        'Player2': {'goals': 5, 'assists': 10, 'pass_completion': 90, 'defensive_contributions': 15},\n",
        "        # ... add more players\n",
        "    },\n",
        "    'Inter Milan': {\n",
        "        'Player1': {'goals': 8, 'assists': 7, 'pass_completion': 80, 'defensive_contributions': 18},\n",
        "        'Player2': {'goals': 6, 'assists': 8, 'pass_completion': 87, 'defensive_contributions': 16},\n",
        "        # ... add more players\n",
        "    }\n",
        "}"
      ]
    },
    {
      "cell_type": "code",
      "source": [
        "# Define team strategies (dummy data)\n",
        "team_strategies = {\n",
        "    'Man City': {'formation': '4-3-3', 'attacking_style': 'possession-based', 'defensive_organization': 'high pressing'},\n",
        "    'Inter Milan': {'formation': '3-5-2', 'attacking_style': 'direct play', 'defensive_organization': 'compact defense'},\n",
        "}"
      ],
      "metadata": {
        "id": "3Z14DYMRY4HI"
      },
      "execution_count": null,
      "outputs": []
    },
    {
      "cell_type": "code",
      "source": [
        "# Define past records (dummy data)\n",
        "past_records = {\n",
        "    'Man City': {'Champions League titles': 0, 'Finals reached': 2},\n",
        "    'Inter Milan': {'Champions League titles': 3, 'Finals reached': 5},\n",
        "}"
      ],
      "metadata": {
        "id": "LC_h2qWlY94O"
      },
      "execution_count": null,
      "outputs": []
    },
    {
      "cell_type": "code",
      "source": [
        "# Define weights for factors\n",
        "weights = {\n",
        "    'player_performance': 0.4,\n",
        "    'team_strategies': 0.3,\n",
        "    'past_records': 0.3,\n",
        "}"
      ],
      "metadata": {
        "id": "JkCm-wHsZA3Z"
      },
      "execution_count": null,
      "outputs": []
    },
    {
      "cell_type": "code",
      "source": [
        "# Calculate individual player scores\n",
        "def calculate_player_scores(player_stats):\n",
        "    player_scores = {}\n",
        "    for team, players in player_stats.items():\n",
        "        player_scores[team] = {}\n",
        "        for player, stats in players.items():\n",
        "            score = (\n",
        "                stats['goals'] * 0.3 +\n",
        "                stats['assists'] * 0.2 +\n",
        "                stats['pass_completion'] * 0.25 +\n",
        "                stats['defensive_contributions'] * 0.25\n",
        "            )\n",
        "            player_scores[team][player] = score\n",
        "    return player_scores"
      ],
      "metadata": {
        "id": "ihxkRqN3ZDFH"
      },
      "execution_count": null,
      "outputs": []
    },
    {
      "cell_type": "code",
      "source": [
        "# Calculate team strategy scores\n",
        "def calculate_team_strategy_scores(team_strategies):\n",
        "    strategy_scores = {}\n",
        "    for team, strategies in team_strategies.items():\n",
        "        score = 0\n",
        "        # Calculate score based on specific criteria\n",
        "        # Adjust the calculations based on your requirements\n",
        "        if strategies['formation'] == '4-3-3':\n",
        "            score += 10\n",
        "        if strategies['attacking_style'] == 'possession-based':\n",
        "            score += 15\n",
        "        if strategies['defensive_organization'] == 'high pressing':\n",
        "            score += 12\n",
        "        strategy_scores[team] = score\n",
        "    return strategy_scores"
      ],
      "metadata": {
        "id": "p5iQhAzUZGMX"
      },
      "execution_count": null,
      "outputs": []
    },
    {
      "cell_type": "code",
      "source": [
        "# Calculate past record scores\n",
        "def calculate_past_record_scores(past_records):\n",
        "    record_scores = {}\n",
        "    for team, records in past_records.items():\n",
        "        score = (\n",
        "            records['Champions League titles'] * 0.5 +\n",
        "            records['Finals reached'] * 0.5\n",
        "        )\n",
        "        record_scores[team] = score\n",
        "    return record_scores\n"
      ],
      "metadata": {
        "id": "5b6k5SL5ZIw-"
      },
      "execution_count": null,
      "outputs": []
    },
    {
      "cell_type": "code",
      "source": [
        "def generate_rankings(player_scores, strategy_scores, record_scores, weights):\n",
        "    rankings = {}\n",
        "    for team in player_scores.keys():\n",
        "        rankings[team] = (\n",
        "            sum(player_scores[team].values()) * weights['player_performance'] +\n",
        "            strategy_scores[team] * weights['team_strategies'] +\n",
        "            record_scores[team] * weights['past_records']\n",
        "        )\n",
        "    sorted_rankings = sorted(rankings.items(), key=lambda x: x[1], reverse=True)\n",
        "    return sorted_rankings"
      ],
      "metadata": {
        "id": "hvNinopAZLLm"
      },
      "execution_count": null,
      "outputs": []
    },
    {
      "cell_type": "code",
      "source": [
        "# Execute the algorithm\n",
        "player_scores = calculate_player_scores(player_stats)\n",
        "strategy_scores = calculate_team_strategy_scores(team_strategies)\n",
        "record_scores = calculate_past_record_scores(past_records)\n",
        "rankings = generate_rankings(player_scores, strategy_scores, record_scores, weights)\n"
      ],
      "metadata": {
        "id": "MUppSr4fZOI5"
      },
      "execution_count": null,
      "outputs": []
    },
    {
      "cell_type": "code",
      "source": [
        "# Print the rankings\n",
        "print(\"Team Rankings:\")\n",
        "for team, score in rankings:\n",
        "    print(f\"{team}: {score}\")"
      ],
      "metadata": {
        "colab": {
          "base_uri": "https://localhost:8080/"
        },
        "id": "40tJSX_MZQir",
        "outputId": "9657d425-b073-4d8a-e6de-d1f01d283cf5"
      },
      "execution_count": null,
      "outputs": [
        {
          "output_type": "stream",
          "name": "stdout",
          "text": [
            "Team Rankings:\n",
            "Man City: 35.4\n",
            "Inter Milan: 24.180000000000003\n"
          ]
        }
      ]
    },
    {
      "cell_type": "code",
      "source": [],
      "metadata": {
        "id": "rDcFrGxlbXmX"
      },
      "execution_count": null,
      "outputs": []
    },
    {
      "cell_type": "code",
      "source": [],
      "metadata": {
        "id": "lJKv3yh4baJR"
      },
      "execution_count": null,
      "outputs": []
    }
  ]
}